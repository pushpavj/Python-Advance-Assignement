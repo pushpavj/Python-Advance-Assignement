{
 "cells": [
  {
   "cell_type": "code",
   "execution_count": null,
   "metadata": {},
   "outputs": [],
   "source": [
    "Q1. What is the relationship between classes and modules?\n",
    "Ans:Modules are collections of codes for functions, classes, methods constants which we can\n",
    "    re use it by importing one module to another module. It acts as an extention of code from \n",
    "    imported module to the module in which it is imported. It is just act as a copy code we\n",
    "    can not generate instance of the modules. Where as class is collection of method which \n",
    "    allows us to generate instance of the class, which gives a blue print or skeleton \n",
    "    structure for any categary of the things. Not only we can re use the class by creating\n",
    "    as many as instances but it alos allows us to modify the class by inheritance."
   ]
  },
  {
   "cell_type": "code",
   "execution_count": null,
   "metadata": {},
   "outputs": [],
   "source": [
    "Q2. How do you make instances and classes?\n",
    "Ans: We can define a class to create skeleton structure of any categary of things based on \n",
    "    its basic characteristics. And we can create the instance of the class for things which\n",
    "    falls under this class categary to more presise or specific about the thing.\n",
    "    For example: We can define a class for car by providing the base structure such as \n",
    "        car name, car type, car model, car year... and we can create a instance for nano\n",
    "        car by providing appropriate details for car name, car type, car model and car year \n",
    "        details for nano car.\n",
    "        class car:\n",
    "            def __init__(self,name, type, model, year):\n",
    "                self.name=name\n",
    "                self.type=type\n",
    "                self.model=model\n",
    "                self.year=year\n",
    "        nano=car(\"nano\",\"Petrol\",\"3432\",2020)"
   ]
  },
  {
   "cell_type": "code",
   "execution_count": null,
   "metadata": {},
   "outputs": [],
   "source": [
    "Q3. Where and how should be class attributes created?\n",
    "Ans: Class attributes belong to the class itself they will be shared by all the instances.\n",
    "    Such attributes are defined in the class body parts usually at the top, for legibility.\n",
    "\n",
    "\n",
    "                  class classname:\n",
    "                  count=0\n",
    "                  type='Test'\n",
    "                  def __init__(self,var1,var2):\n",
    "                    self.var1=var1\n",
    "                    self.var2=var2"
   ]
  },
  {
   "cell_type": "code",
   "execution_count": null,
   "metadata": {},
   "outputs": [],
   "source": [
    "Q4. Where and how are instance attributes created?\n",
    "Ans: Instance attributes is available only to that particular instance object, it can be created\n",
    "    by defining the constructor __init__ with in the class. Other way creating instance attribute\n",
    "    is outside the class by class object.variable name assignement, but this is not good coding\n",
    "    practice.\n"
   ]
  },
  {
   "cell_type": "code",
   "execution_count": null,
   "metadata": {},
   "outputs": [],
   "source": [
    "Q5. What does the term \"self\" in a Python class mean?\n",
    "\n",
    "Ans: The first argument of method inside the class must be self argument. The self argument acts\n",
    "    as pointer to the partcular class instance object. While creating the class instance we need\n",
    "    not to pass any parameter for this self argument, perhaps the self arguments automatically\n",
    "    establishes the pointer to the class instance."
   ]
  },
  {
   "cell_type": "code",
   "execution_count": null,
   "metadata": {},
   "outputs": [],
   "source": [
    "Q6. How does a Python class handle operator overloading?\n",
    "Ans: Class can handle operator overloading by overiding the builtin functions for operators such \n",
    "    as __mul__. By overriding built in functions inside the class we can make the operator\n",
    "    to function or operate differently.\n",
    "    example:\n",
    "        clall overload:\n",
    "            def __init__(self,a):\n",
    "                self.a=a\n",
    "            def __mul__(self,other):\n",
    "                 return self.a + other.a\n",
    "        var1=over(8)\n",
    "        var2=over(9)\n",
    "        var1*var2 #This will result in addition of var1 and var2 instead of actual * for multipli\n",
    "                # cation. This is called as operator overloading."
   ]
  },
  {
   "cell_type": "code",
   "execution_count": 20,
   "metadata": {},
   "outputs": [
    {
     "name": "stdout",
     "output_type": "stream",
     "text": [
      "17\n",
      "0.8888888888888888\n",
      "72\n"
     ]
    }
   ],
   "source": [
    "class over:\n",
    "    def __init__(self,a):\n",
    "         self.a=a\n",
    "    def __mul__(self,other):\n",
    "         return self.a + other.a\n",
    "    def __add__(self,other):\n",
    "        return self.a /other.a\n",
    "    def __sub__(self,other):\n",
    "        return self.a*other.a\n",
    "var1=over(8)\n",
    "var2=over(9)\n",
    "print(var1*var2) \n",
    "print(var1+var2)\n",
    "print(var2-var1)"
   ]
  },
  {
   "cell_type": "code",
   "execution_count": null,
   "metadata": {},
   "outputs": [],
   "source": [
    "Q7. When do you consider allowing operator overloading of your classes?\n",
    "Ans: When we would like to operate on two  class objects we allow operator overloading of\n",
    "    the classes as we are not able to perform operations on the clas objects"
   ]
  },
  {
   "cell_type": "code",
   "execution_count": null,
   "metadata": {},
   "outputs": [],
   "source": [
    "Q8. What is the most popular form of operator overloading?\n",
    "Ans: The most popular form of operator overloading it Addition as it exhibits the polymarphism\n",
    "    property.i.e. the addition operator does additions if the class parmeters sent as numbers\n",
    "    and it does the concatination if the class parameters passed are string or list.\n",
    "    "
   ]
  },
  {
   "cell_type": "code",
   "execution_count": null,
   "metadata": {},
   "outputs": [],
   "source": [
    "Q9. What are the two most important concepts to grasp in order to comprehend Python OOP code?\n",
    "Ans: Importatn concets to grasp in order to coprehend python oop code are\n",
    "    >Class inheritance\n",
    "    >Class encapsulation\n",
    "    >Operator overloading\n",
    "    >polymophism"
   ]
  },
  {
   "cell_type": "code",
   "execution_count": null,
   "metadata": {},
   "outputs": [],
   "source": []
  },
  {
   "cell_type": "code",
   "execution_count": null,
   "metadata": {},
   "outputs": [],
   "source": []
  },
  {
   "cell_type": "code",
   "execution_count": null,
   "metadata": {},
   "outputs": [],
   "source": []
  }
 ],
 "metadata": {
  "kernelspec": {
   "display_name": "Python 3",
   "language": "python",
   "name": "python3"
  },
  "language_info": {
   "codemirror_mode": {
    "name": "ipython",
    "version": 3
   },
   "file_extension": ".py",
   "mimetype": "text/x-python",
   "name": "python",
   "nbconvert_exporter": "python",
   "pygments_lexer": "ipython3",
   "version": "3.7.6"
  }
 },
 "nbformat": 4,
 "nbformat_minor": 4
}
